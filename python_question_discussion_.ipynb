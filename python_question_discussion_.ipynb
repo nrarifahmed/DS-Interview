{
  "nbformat": 4,
  "nbformat_minor": 0,
  "metadata": {
    "kernelspec": {
      "display_name": "Python 3",
      "language": "python",
      "name": "python3"
    },
    "language_info": {
      "codemirror_mode": {
        "name": "ipython",
        "version": 3
      },
      "file_extension": ".py",
      "mimetype": "text/x-python",
      "name": "python",
      "nbconvert_exporter": "python",
      "pygments_lexer": "ipython3",
      "version": "3.8.5"
    },
    "colab": {
      "name": "python question discussion .ipynb",
      "provenance": [],
      "include_colab_link": true
    }
  },
  "cells": [
    {
      "cell_type": "markdown",
      "metadata": {
        "id": "view-in-github",
        "colab_type": "text"
      },
      "source": [
        "<a href=\"https://colab.research.google.com/github/nrarifahmed/DS-Interview/blob/master/python_question_discussion_.ipynb\" target=\"_parent\"><img src=\"https://colab.research.google.com/assets/colab-badge.svg\" alt=\"Open In Colab\"/></a>"
      ]
    },
    {
      "cell_type": "code",
      "metadata": {
        "id": "laPYDpPKm5I_"
      },
      "source": [
        "ide - pycharm \n",
        "cloud - aws , gcp , azure\n",
        "os - linux \n",
        "git - bitbucket \n",
        "api - flask \n",
        "DB - mysql , mongodb , casandra\n",
        "3rd paty api - ocr , map , speech , speect to text , lan \n",
        "lan - python \n",
        "lib - sklern , pandas , numpy , plotly , tensorflow , pytorch , mxnet , cv2 \n",
        "Dashbaord - power bi , tableau \n",
        "gpu - tesla k80 , p6000 , v100 (paperspace)\n",
        "hrdware - raspberry pi 4, gogle coral , N - jetson nano , n - xavir , N - TX2 , TX1"
      ],
      "execution_count": null,
      "outputs": []
    },
    {
      "cell_type": "code",
      "metadata": {
        "id": "pWJ0UdHym5JG",
        "outputId": "bab9804e-29c1-49b5-aabc-7a1b96aeb962"
      },
      "source": [
        "import requests\n",
        "\n",
        "url = \"https://twelve-data1.p.rapidapi.com/price\"\n",
        "\n",
        "querystring = {\"symbol\":\"AMZN\",\"format\":\"json\",\"outputsize\":\"30\"}\n",
        "\n",
        "headers = {'x-rapidapi-host': 'twelve-data1.p.rapidapi.com'}\n",
        "\n",
        "response = requests.request(\"GET\", url, headers=headers, params=querystring)\n",
        "\n",
        "print(response.text)"
      ],
      "execution_count": null,
      "outputs": [
        {
          "output_type": "stream",
          "text": [
            "{\"message\":\"Invalid API key. Go to https:\\/\\/docs.rapidapi.com\\/docs\\/keys for more info.\"}\n"
          ],
          "name": "stdout"
        }
      ]
    },
    {
      "cell_type": "code",
      "metadata": {
        "id": "LJtCcUH6m5JL"
      },
      "source": [
        "What can be done with Python?\n",
        "System Programming\n",
        "Graphical User Interface\n",
        "Web Scrapping\n",
        "Managing Database\n",
        "Fast Prototyping\n",
        "Numeric / Scientific Programming\n",
        "Game development\n",
        "Image Processing\n",
        "Robotics\n",
        "Automation\n",
        "Data science\n",
        "Data Mining"
      ],
      "execution_count": null,
      "outputs": []
    },
    {
      "cell_type": "code",
      "metadata": {
        "id": "YHv4O9F5m5JN"
      },
      "source": [
        "datatypes in pytho ?\n",
        "int \n",
        "float\n",
        "complex\n",
        "string \n",
        "bool "
      ],
      "execution_count": null,
      "outputs": []
    },
    {
      "cell_type": "code",
      "metadata": {
        "id": "ZDkrxHpXm5JO"
      },
      "source": [
        "collections ?\n",
        "list \n",
        "tuples \n",
        "dict \n",
        "set "
      ],
      "execution_count": null,
      "outputs": []
    },
    {
      "cell_type": "code",
      "metadata": {
        "id": "VGRl8klLm5JQ"
      },
      "source": [
        "In dynamic typings we don't declare the type of variable, we just say x = 10 and \n",
        "python interprets that it's an integer. In strongly typed we have to say int =10\n"
      ],
      "execution_count": null,
      "outputs": []
    },
    {
      "cell_type": "code",
      "metadata": {
        "id": "7qOP_1xrm5JR"
      },
      "source": [
        "s = 34\n",
        "s = \"sudh\""
      ],
      "execution_count": null,
      "outputs": []
    },
    {
      "cell_type": "code",
      "metadata": {
        "id": "ZJ-QpJtQm5JT",
        "outputId": "e880cc7c-a5ed-47f0-e905-fa8f1c367f29"
      },
      "source": [
        "1 + \"sudh\""
      ],
      "execution_count": null,
      "outputs": [
        {
          "output_type": "error",
          "ename": "TypeError",
          "evalue": "unsupported operand type(s) for +: 'int' and 'str'",
          "traceback": [
            "\u001b[1;31m---------------------------------------------------------------------------\u001b[0m",
            "\u001b[1;31mTypeError\u001b[0m                                 Traceback (most recent call last)",
            "\u001b[1;32m<ipython-input-3-8773b506bb2b>\u001b[0m in \u001b[0;36m<module>\u001b[1;34m\u001b[0m\n\u001b[1;32m----> 1\u001b[1;33m \u001b[1;36m1\u001b[0m \u001b[1;33m+\u001b[0m \u001b[1;34m\"sudh\"\u001b[0m\u001b[1;33m\u001b[0m\u001b[1;33m\u001b[0m\u001b[0m\n\u001b[0m",
            "\u001b[1;31mTypeError\u001b[0m: unsupported operand type(s) for +: 'int' and 'str'"
          ]
        }
      ]
    },
    {
      "cell_type": "code",
      "metadata": {
        "id": "7P27DRmSm5JU",
        "outputId": "6cb53f9f-bebc-4fe4-f882-e9e7a91bf671"
      },
      "source": [
        "\"1 \"+ \"sudh\""
      ],
      "execution_count": null,
      "outputs": [
        {
          "output_type": "execute_result",
          "data": {
            "text/plain": [
              "'1 sudh'"
            ]
          },
          "metadata": {
            "tags": []
          },
          "execution_count": 4
        }
      ]
    },
    {
      "cell_type": "code",
      "metadata": {
        "id": "ozeNvd2Em5JX",
        "outputId": "4d982bea-53ad-4c0e-a118-4e94ea72c445"
      },
      "source": [
        "str(1) + \"sudh\""
      ],
      "execution_count": null,
      "outputs": [
        {
          "output_type": "execute_result",
          "data": {
            "text/plain": [
              "'1sudh'"
            ]
          },
          "metadata": {
            "tags": []
          },
          "execution_count": 5
        }
      ]
    },
    {
      "cell_type": "code",
      "metadata": {
        "id": "XeKrdeLjm5JY",
        "outputId": "5056580b-2bef-4d63-a593-788c8df58b13"
      },
      "source": [
        "s "
      ],
      "execution_count": null,
      "outputs": [
        {
          "output_type": "execute_result",
          "data": {
            "text/plain": [
              "'sudh'"
            ]
          },
          "metadata": {
            "tags": []
          },
          "execution_count": 6
        }
      ]
    },
    {
      "cell_type": "code",
      "metadata": {
        "id": "E8dRBucQm5JZ",
        "outputId": "aae7636e-c244-494c-d039-65c05ce9ac23"
      },
      "source": [
        "print(s) + \"kumar\""
      ],
      "execution_count": null,
      "outputs": [
        {
          "output_type": "stream",
          "text": [
            "sudh\n"
          ],
          "name": "stdout"
        },
        {
          "output_type": "error",
          "ename": "TypeError",
          "evalue": "unsupported operand type(s) for +: 'NoneType' and 'str'",
          "traceback": [
            "\u001b[1;31m---------------------------------------------------------------------------\u001b[0m",
            "\u001b[1;31mTypeError\u001b[0m                                 Traceback (most recent call last)",
            "\u001b[1;32m<ipython-input-8-76cc58f5ef69>\u001b[0m in \u001b[0;36m<module>\u001b[1;34m\u001b[0m\n\u001b[1;32m----> 1\u001b[1;33m \u001b[0mprint\u001b[0m\u001b[1;33m(\u001b[0m\u001b[0ms\u001b[0m\u001b[1;33m)\u001b[0m \u001b[1;33m+\u001b[0m \u001b[1;34m\"kumar\"\u001b[0m\u001b[1;33m\u001b[0m\u001b[1;33m\u001b[0m\u001b[0m\n\u001b[0m",
            "\u001b[1;31mTypeError\u001b[0m: unsupported operand type(s) for +: 'NoneType' and 'str'"
          ]
        }
      ]
    },
    {
      "cell_type": "code",
      "metadata": {
        "id": "0G0CrF8mm5Ja",
        "outputId": "97876183-353d-481f-b539-3529c4f3c155"
      },
      "source": [
        "type(print(s))"
      ],
      "execution_count": null,
      "outputs": [
        {
          "output_type": "stream",
          "text": [
            "sudh\n"
          ],
          "name": "stdout"
        },
        {
          "output_type": "execute_result",
          "data": {
            "text/plain": [
              "NoneType"
            ]
          },
          "metadata": {
            "tags": []
          },
          "execution_count": 9
        }
      ]
    },
    {
      "cell_type": "code",
      "metadata": {
        "id": "JfPJziVem5Jb",
        "outputId": "c3f7d860-959f-4670-e136-42d21fc78eeb"
      },
      "source": [
        "\"bappy\" * 5\n"
      ],
      "execution_count": null,
      "outputs": [
        {
          "output_type": "execute_result",
          "data": {
            "text/plain": [
              "'bappybappybappybappybappy'"
            ]
          },
          "metadata": {
            "tags": []
          },
          "execution_count": 10
        }
      ]
    },
    {
      "cell_type": "code",
      "metadata": {
        "id": "xMQlRy7km5Jc",
        "outputId": "288928db-f2ad-47c8-9b1c-067f48eebc6d"
      },
      "source": [
        "\"bappy\"+\"bappy\"+\"bappy\""
      ],
      "execution_count": null,
      "outputs": [
        {
          "output_type": "execute_result",
          "data": {
            "text/plain": [
              "'bappybappybappy'"
            ]
          },
          "metadata": {
            "tags": []
          },
          "execution_count": 11
        }
      ]
    },
    {
      "cell_type": "code",
      "metadata": {
        "id": "DFvvl6ZHm5Jd",
        "outputId": "33809776-1004-49d6-c421-77653c2a917a"
      },
      "source": [
        "\"Greetings from {}! Have a {} day\".format(\"ineuron\",\"good\")"
      ],
      "execution_count": null,
      "outputs": [
        {
          "output_type": "execute_result",
          "data": {
            "text/plain": [
              "'Greetings from ineuron! Have a good day'"
            ]
          },
          "metadata": {
            "tags": []
          },
          "execution_count": 12
        }
      ]
    },
    {
      "cell_type": "code",
      "metadata": {
        "id": "_L_eMFACm5Je",
        "outputId": "09bd6ebd-f5f3-46f8-8adb-b34843eb18e8"
      },
      "source": [
        "\"my name {} {} {}\".format(\"is \" , \"sudh\" , \"kuamr\")"
      ],
      "execution_count": null,
      "outputs": [
        {
          "output_type": "execute_result",
          "data": {
            "text/plain": [
              "'my name is  sudh kuamr'"
            ]
          },
          "metadata": {
            "tags": []
          },
          "execution_count": 13
        }
      ]
    },
    {
      "cell_type": "code",
      "metadata": {
        "id": "g_QjFN9_m5Jf",
        "outputId": "f630574d-d872-493e-de23-2623684248cd"
      },
      "source": [
        "\"Greetings from %f! Have a %s day\" % (98.89797,\"good\")"
      ],
      "execution_count": null,
      "outputs": [
        {
          "output_type": "execute_result",
          "data": {
            "text/plain": [
              "'Greetings from 98.897970! Have a good day'"
            ]
          },
          "metadata": {
            "tags": []
          },
          "execution_count": 18
        }
      ]
    },
    {
      "cell_type": "code",
      "metadata": {
        "id": "qhTKhlUsm5Jg",
        "outputId": "12042793-18ae-42a2-a6ac-c2cdb7c5bdd7"
      },
      "source": [
        "(input())  +str( 1 )"
      ],
      "execution_count": null,
      "outputs": [
        {
          "output_type": "stream",
          "text": [
            "345\n"
          ],
          "name": "stdout"
        },
        {
          "output_type": "execute_result",
          "data": {
            "text/plain": [
              "'3451'"
            ]
          },
          "metadata": {
            "tags": []
          },
          "execution_count": 24
        }
      ]
    },
    {
      "cell_type": "code",
      "metadata": {
        "id": "4cytPgz0m5Jg",
        "outputId": "a75668d1-fc8b-4bbe-8ebe-d1faff556f7a"
      },
      "source": [
        "True -True + True + False"
      ],
      "execution_count": null,
      "outputs": [
        {
          "output_type": "execute_result",
          "data": {
            "text/plain": [
              "1"
            ]
          },
          "metadata": {
            "tags": []
          },
          "execution_count": 25
        }
      ]
    },
    {
      "cell_type": "code",
      "metadata": {
        "id": "hJrvIebGm5Jh",
        "outputId": "994b3e3d-1813-4342-d6a2-afd6c1690a99"
      },
      "source": [
        "True * True -False + True /True "
      ],
      "execution_count": null,
      "outputs": [
        {
          "output_type": "execute_result",
          "data": {
            "text/plain": [
              "2.0"
            ]
          },
          "metadata": {
            "tags": []
          },
          "execution_count": 26
        }
      ]
    },
    {
      "cell_type": "code",
      "metadata": {
        "id": "x4xvGjVZm5Ji",
        "outputId": "80eae72f-c532-4190-92f8-c6d7298cb1cc"
      },
      "source": [
        "(1+ 5j ) * (3)"
      ],
      "execution_count": null,
      "outputs": [
        {
          "output_type": "execute_result",
          "data": {
            "text/plain": [
              "(3+15j)"
            ]
          },
          "metadata": {
            "tags": []
          },
          "execution_count": 27
        }
      ]
    },
    {
      "cell_type": "code",
      "metadata": {
        "id": "L_u1yia7m5Jj",
        "outputId": "77e06704-b9e8-4b99-ba20-9040023caa4f"
      },
      "source": [
        "type(1+ 5j)"
      ],
      "execution_count": null,
      "outputs": [
        {
          "output_type": "execute_result",
          "data": {
            "text/plain": [
              "complex"
            ]
          },
          "metadata": {
            "tags": []
          },
          "execution_count": 28
        }
      ]
    },
    {
      "cell_type": "code",
      "metadata": {
        "id": "5DcXZF9xm5Jk"
      },
      "source": [
        "if True :\n",
        "    pass"
      ],
      "execution_count": null,
      "outputs": []
    },
    {
      "cell_type": "code",
      "metadata": {
        "id": "T8NGazc1m5Jk"
      },
      "source": [
        "def test():\n",
        "    pass\n"
      ],
      "execution_count": null,
      "outputs": []
    },
    {
      "cell_type": "code",
      "metadata": {
        "id": "mfwKr--Ym5Jl"
      },
      "source": [
        "class test:\n",
        "    pass  "
      ],
      "execution_count": null,
      "outputs": []
    },
    {
      "cell_type": "code",
      "metadata": {
        "id": "EGEP1TAlm5Jl"
      },
      "source": [
        "for i in range(10) :\n",
        "    pass\n",
        "    "
      ],
      "execution_count": null,
      "outputs": []
    },
    {
      "cell_type": "code",
      "metadata": {
        "id": "xInTgFovm5Jm",
        "outputId": "4e527515-e31c-41cd-a6e0-8b4f16e35709"
      },
      "source": [
        "if True : \n",
        "    print(\"my name is sudh \")\n",
        "if 6 > 8:\n",
        "    print(\"mu name is xuz\")\n",
        "else :\n",
        "    print(\"condition was not true \") \n",
        "elif 7>5 :\n",
        "    print(\"execute this \") "
      ],
      "execution_count": null,
      "outputs": [
        {
          "output_type": "error",
          "ename": "SyntaxError",
          "evalue": "invalid syntax (<ipython-input-42-5493d387c081>, line 7)",
          "traceback": [
            "\u001b[1;36m  File \u001b[1;32m\"<ipython-input-42-5493d387c081>\"\u001b[1;36m, line \u001b[1;32m7\u001b[0m\n\u001b[1;33m    elif 7>5 :\u001b[0m\n\u001b[1;37m    ^\u001b[0m\n\u001b[1;31mSyntaxError\u001b[0m\u001b[1;31m:\u001b[0m invalid syntax\n"
          ]
        }
      ]
    },
    {
      "cell_type": "code",
      "metadata": {
        "id": "3mUY-xb7m5Jm",
        "outputId": "02ffe6ff-71a3-41cc-f7d9-792c80ab4325"
      },
      "source": [
        "if True : \n",
        "    print(\"my name is sudh \")\n",
        "if 6 > 8:\n",
        "    print(\"mu name is xuz\")\n",
        "elif 7>5 :\n",
        "    print(\"execute this \") \n",
        "    if True :\n",
        "        print(\"execute nested one\")\n",
        "else :\n",
        "    print(\"condition was not true \") \n"
      ],
      "execution_count": null,
      "outputs": [
        {
          "output_type": "stream",
          "text": [
            "my name is sudh \n",
            "execute this \n",
            "execute nested one\n"
          ],
          "name": "stdout"
        }
      ]
    },
    {
      "cell_type": "code",
      "metadata": {
        "id": "LtOEWDzGm5Jn",
        "outputId": "e05af03a-6690-40fe-bd49-dac12d3940b3"
      },
      "source": [
        "val = int(input(\"Enter a number: \"))\n",
        "if (val <= 999 ): print (\"Value is less than equal to 999\")\n",
        "print (\"Good bye!\")"
      ],
      "execution_count": null,
      "outputs": [
        {
          "output_type": "stream",
          "text": [
            "Enter a number: 67\n",
            "Value is less than equal to 999\n",
            "Good bye!\n"
          ],
          "name": "stdout"
        }
      ]
    },
    {
      "cell_type": "code",
      "metadata": {
        "id": "afutvGn7m5Jo",
        "outputId": "849f3191-4e24-4e75-fb10-ff7f5415a812"
      },
      "source": [
        "i = int(input())\n",
        "while i <10 : \n",
        "    print(\"this is my while \")\n",
        "    i = i + 1 \n",
        "    continue\n",
        "    "
      ],
      "execution_count": null,
      "outputs": [
        {
          "output_type": "stream",
          "text": [
            "5\n",
            "this is my while \n",
            "this is my while \n",
            "this is my while \n",
            "this is my while \n",
            "this is my while \n"
          ],
          "name": "stdout"
        }
      ]
    },
    {
      "cell_type": "code",
      "metadata": {
        "id": "U5pzif6Om5Jo",
        "outputId": "3d4dda7b-51f9-4100-bf6a-2c29309a6eed"
      },
      "source": [
        "for i in range(10):\n",
        "    print(i)\n",
        "    if i == 5:\n",
        "        break\n",
        "else :\n",
        "    print(\"this is my for loop\")"
      ],
      "execution_count": null,
      "outputs": [
        {
          "output_type": "stream",
          "text": [
            "0\n",
            "1\n",
            "2\n",
            "3\n",
            "4\n",
            "5\n"
          ],
          "name": "stdout"
        }
      ]
    },
    {
      "cell_type": "code",
      "metadata": {
        "id": "prHjNdYKm5Jp",
        "outputId": "6836b1c7-f647-47e8-8286-0526e51bc147"
      },
      "source": [
        "s = \"sudh\"\n",
        "s[-1]"
      ],
      "execution_count": null,
      "outputs": [
        {
          "output_type": "execute_result",
          "data": {
            "text/plain": [
              "'h'"
            ]
          },
          "metadata": {
            "tags": []
          },
          "execution_count": 53
        }
      ]
    },
    {
      "cell_type": "code",
      "metadata": {
        "id": "tMNSox_Tm5Jp",
        "outputId": "ccb59656-7662-4a7b-8361-3852dcb9f413"
      },
      "source": [
        "s[::-1]"
      ],
      "execution_count": null,
      "outputs": [
        {
          "output_type": "execute_result",
          "data": {
            "text/plain": [
              "'hdus'"
            ]
          },
          "metadata": {
            "tags": []
          },
          "execution_count": 54
        }
      ]
    },
    {
      "cell_type": "code",
      "metadata": {
        "id": "7cv7iTjcm5Jq"
      },
      "source": [
        "s = \"mynameissudh\""
      ],
      "execution_count": null,
      "outputs": []
    },
    {
      "cell_type": "code",
      "metadata": {
        "id": "pasPqPXHm5Jq",
        "outputId": "fcd4ea8c-b078-4cb7-93f4-b60ab00bbdc6"
      },
      "source": [
        "s[3:1:-1]"
      ],
      "execution_count": null,
      "outputs": [
        {
          "output_type": "execute_result",
          "data": {
            "text/plain": [
              "'an'"
            ]
          },
          "metadata": {
            "tags": []
          },
          "execution_count": 57
        }
      ]
    },
    {
      "cell_type": "code",
      "metadata": {
        "id": "4xBk38lzm5Jr"
      },
      "source": [
        ""
      ],
      "execution_count": null,
      "outputs": []
    }
  ]
}